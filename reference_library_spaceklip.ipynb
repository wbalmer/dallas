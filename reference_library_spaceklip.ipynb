{
 "cells": [
  {
   "cell_type": "markdown",
   "id": "04842b42-02dd-4f71-ad8d-548ed5d038a5",
   "metadata": {},
   "source": [
    "# Dumb Archival Legacy Investigations of Circumstellar Environments (ALICE), or DALICE\n",
    "\n",
    "A quick and dirty JWST/NIRCam reference PSF library, inspired by ALICE (https://archive.stsci.edu/prepds/alice/) "
   ]
  },
  {
   "cell_type": "code",
   "execution_count": null,
   "id": "180cfab4-7c0c-4e4f-b73a-05081c56e510",
   "metadata": {},
   "outputs": [],
   "source": [
    "from __future__ import division\n",
    "\n",
    "# =============================================================================\n",
    "# IMPORTS\n",
    "# =============================================================================\n",
    "\n",
    "import os\n",
    "import pdb\n",
    "import sys\n",
    "\n",
    "import astropy.io.fits as pyfits\n",
    "import matplotlib.pyplot as plt\n",
    "import numpy as np\n",
    "\n",
    "from spaceKLIP import database, coron1pipeline, coron2pipeline, coron3pipeline, pyklippipeline, imagetools, analysistools\n",
    "\n",
    "# plotting\n",
    "import matplotlib.pyplot as plt"
   ]
  },
  {
   "cell_type": "markdown",
   "id": "fa46c8b5-145d-4910-86b9-c3375e450e2f",
   "metadata": {},
   "source": [
    "## download data"
   ]
  },
  {
   "cell_type": "code",
   "execution_count": null,
   "id": "a54cc1e2-aaf8-4b59-bc88-8c0c719d528c",
   "metadata": {
    "scrolled": true
   },
   "outputs": [],
   "source": [
    "from spaceKLIP import mast\n",
    "\n",
    "# this query will find all public reference stars taken in your given coronagraphic mask and filter. you can also make the query for MIRI, etc\n",
    "table = mast.query_coron_datasets('NIRCam', 'F444W', 'MASKA335R', 'REF', ignore_exclusive_access=True, return_filenames=True, level='uncal')\n",
    "\n",
    "print(f\"Found {len(table)} unique dithers/star.\")"
   ]
  },
  {
   "cell_type": "code",
   "execution_count": null,
   "id": "8de911ff-29be-4a33-a6f0-06052ad0b834",
   "metadata": {},
   "outputs": [],
   "source": [
    "# we can check where the data comes from:\n",
    "visid = np.unique(table['visit_id'])\n",
    "pids = list(np.unique([int(x[2:6]) for x in visid]))\n",
    "print(pids, sep=\",\")\n",
    "print(list(np.unique(table['pi_name'])))"
   ]
  },
  {
   "cell_type": "markdown",
   "id": "28c3bad1-599c-4b25-b4bd-e924ceac3384",
   "metadata": {},
   "source": [
    "make sure you acknowledge where all the reference stars come from in your written work - im not sure if there's consensus on how to do this, but i plan to thank the PIs of these programs and cite whatever relevant papers might have been published from these datasets."
   ]
  },
  {
   "cell_type": "code",
   "execution_count": null,
   "id": "c14ee169-3f6a-4dbf-be7f-245a8181cb26",
   "metadata": {},
   "outputs": [],
   "source": [
    "# and then we can download the data to a directory of our choosing\n",
    "dl_dir = '/Users/wbalmer/data/jwst/nircam335R444Wlibrary'\n",
    "# mast.download_files(table, outputdir=dl_dir)"
   ]
  },
  {
   "cell_type": "markdown",
   "id": "459b21d3-2f6b-4078-903d-6530a3cc4195",
   "metadata": {},
   "source": [
    "the rest of the notebook is just how I'd reduce the data using spaceKLIP, but fair warning, the package is under development and there will probably be other efforts to compile + implement RDI libraries in the future."
   ]
  },
  {
   "cell_type": "markdown",
   "id": "14db3fc1-0f74-4430-88b1-f2e6558ce8d3",
   "metadata": {},
   "source": [
    "## load data"
   ]
  },
  {
   "cell_type": "markdown",
   "id": "491e8fc1-92c0-441d-a793-04c84ea29e4c",
   "metadata": {},
   "source": [
    "the code below assumes you've also independently downloaded your science (and maybe your science's associated references) into a folder we'll call \"your_target_here\""
   ]
  },
  {
   "cell_type": "code",
   "execution_count": null,
   "id": "0de3dc55-025b-4c74-9757-461de2b71f8f",
   "metadata": {
    "scrolled": true,
    "tags": []
   },
   "outputs": [],
   "source": [
    "# Set the input and output directories and grab the input FITS files.\n",
    "\n",
    "# some flags if we need to start/stop the reduction\n",
    "reduced = False\n",
    "cleanalign = False\n",
    "aligned = False\n",
    "\n",
    "# some spaceKLIP steps\n",
    "blur = True\n",
    "pad = False\n",
    "coadd = True\n",
    "crop = True\n",
    "\n",
    "use_library = True\n",
    "\n",
    "library_dir = '/Users/wbalmer/data/jwst/nircam335R444Wlibrary/'\n",
    "\n",
    "science_dir = '/Users/wbalmer/data/jwst/your_target_here/'\n",
    "\n",
    "reffiles = None\n",
    "\n",
    "if aligned and coadd:\n",
    "    input_dir = './spaceklip/coadded/'\n",
    "    fitsfiles = sorted([input_dir + f for f in os.listdir(input_dir) if f.endswith('calints.fits')])\n",
    "elif aligned:\n",
    "    input_dir = './spaceklip/aligned/'\n",
    "    fitsfiles = sorted([input_dir + f for f in os.listdir(input_dir) if f.endswith('calints.fits')])\n",
    "elif cleanalign and crop:\n",
    "    input_dir = './spaceklip/cropped/'\n",
    "    fitsfiles = sorted([input_dir + f for f in os.listdir(input_dir) if f.endswith('calints.fits')])\n",
    "elif cleanalign and blur:\n",
    "    input_dir = './spaceklip/blurred/'\n",
    "    fitsfiles = sorted([input_dir + f for f in os.listdir(input_dir) if f.endswith('calints.fits')])\n",
    "elif reduced:\n",
    "    input_dir = './spaceklip/stage2/'\n",
    "    fitsfiles = sorted([input_dir + f for f in os.listdir(input_dir) if f.endswith('.fits')])\n",
    "else:\n",
    "    input_dir = science_dir\n",
    "    fitsfiles = sorted([input_dir + f for f in os.listdir(input_dir) if f.endswith('uncal.fits')])\n",
    "    if use_library:\n",
    "        reffiles = sorted([library_dir + f for f in os.listdir(library_dir) if f.endswith('uncal.fits')])\n",
    "\n",
    "if reffiles is not None:\n",
    "    fitsfiles += reffiles\n",
    "\n",
    "output_dir = './spaceklip/'"
   ]
  },
  {
   "cell_type": "code",
   "execution_count": null,
   "id": "10811ca9-329a-4d86-9582-2e53c04bfd83",
   "metadata": {
    "scrolled": true,
    "tags": []
   },
   "outputs": [],
   "source": [
    "# Initialize the spaceKLIP database and read the input FITS files.\n",
    "Database = database.Database(output_dir=output_dir)\n",
    "Database.read_jwst_s012_data(datapaths=fitsfiles,\n",
    "                             psflibpaths=None,\n",
    "                             bgpaths=None)"
   ]
  },
  {
   "cell_type": "code",
   "execution_count": null,
   "id": "865b904c-05e6-4178-8397-29e1839efd23",
   "metadata": {},
   "outputs": [],
   "source": [
    "# select a subset of obs, usually we are only interested in F200W+F444W\n",
    "\n",
    "select_obs = [\n",
    "              'JWST_NIRCAM_NRCALONG_F444W_MASKRND_MASK335R_SUB320A335R',\n",
    "              ]\n",
    "\n",
    "Database.obs = {k:Database.obs[k] for k in select_obs}"
   ]
  },
  {
   "cell_type": "code",
   "execution_count": null,
   "id": "f9cd87a1-10fe-49a8-af4d-df1bdcd9d816",
   "metadata": {
    "scrolled": true,
    "tags": []
   },
   "outputs": [],
   "source": [
    "if not reduced:\n",
    "    coron1pipeline.run_obs(database=Database,\n",
    "                           steps={'saturation': {'n_pix_grow_sat': 1,\n",
    "                                                 'grow_diagonal': False},\n",
    "                                  'refpix': {'odd_even_columns': True,\n",
    "                                             'odd_even_rows': True,\n",
    "                                             'nlower': 4,\n",
    "                                             'nupper': 4,\n",
    "                                             'nleft': 4,\n",
    "                                             'nright': 4,\n",
    "                                             'nrow_off': 0,\n",
    "                                             'ncol_off': 0},\n",
    "                                  'dark_current': {'skip': True},\n",
    "                                  'persistence': {'skip': True},\n",
    "                                  'jump': {'rejection_threshold': 4.,\n",
    "                                           'three_group_rejection_threshold': 4.,\n",
    "                                           'four_group_rejection_threshold': 4.,\n",
    "                                           'maximum_cores': 'all'},\n",
    "                                  'ramp_fit': {'save_calibrated_ramp': False,\n",
    "                                               'maximum_cores': 'all'}},\n",
    "                            subdir='stage1')"
   ]
  },
  {
   "cell_type": "code",
   "execution_count": null,
   "id": "e35d75f8-3536-41e1-b293-b64b0865e389",
   "metadata": {
    "scrolled": true,
    "tags": []
   },
   "outputs": [],
   "source": [
    "if not reduced:\n",
    "    coron2pipeline.run_obs(database=Database,\n",
    "                           steps={'outlier_detection': {'skip': False}},\n",
    "                           subdir='stage2')"
   ]
  },
  {
   "cell_type": "code",
   "execution_count": null,
   "id": "926e5864-3ac9-492f-b166-86a309ac3478",
   "metadata": {},
   "outputs": [],
   "source": [
    "ImageTools = imagetools.ImageTools(Database)"
   ]
  },
  {
   "cell_type": "code",
   "execution_count": null,
   "id": "beb603b9-fec4-44f6-b594-a1fb3e65fe30",
   "metadata": {
    "scrolled": true,
    "tags": []
   },
   "outputs": [],
   "source": [
    "if not cleanalign:\n",
    "    ImageTools.update_nircam_centers()"
   ]
  },
  {
   "cell_type": "code",
   "execution_count": null,
   "id": "101a3dbc-7571-4536-9f50-bf9039c751e3",
   "metadata": {
    "scrolled": true,
    "tags": []
   },
   "outputs": [],
   "source": [
    "if not cleanalign:\n",
    "    ImageTools.subtract_median(types=['SCI', 'SCI_TA', 'SCI_BG', 'REF', 'REF_TA', 'REF_BG'],\n",
    "                                   subdir='medsub')"
   ]
  },
  {
   "cell_type": "code",
   "execution_count": null,
   "id": "01b523e9-002a-4e8f-be84-eebda60ac65f",
   "metadata": {
    "scrolled": true,
    "tags": []
   },
   "outputs": [],
   "source": [
    "# Fix bad pixels using custom spaceKLIP routines. Multiple routines can be\n",
    "# combined in a custom order by joining them with a + sign.\n",
    "# - bpclean: use sigma clipping to find additional bad pixels.\n",
    "# - custom: use custom map to find additional bad pixels.\n",
    "# - timemed: replace pixels which are only bad in some frames with their\n",
    "#            median value from the good frames.\n",
    "# - dqmed:   replace bad pixels with the median of surrounding good\n",
    "#            pixels.\n",
    "# - medfilt: replace bad pixels with an image plane median filter.\n",
    "\n",
    "if not cleanalign:\n",
    "    ImageTools.fix_bad_pixels(method='bpclean+timemed+dqmed+medfilt',\n",
    "                              bpclean_kwargs={'sigclip': 5,\n",
    "                                              'shift_x': [-1, 0, 1],\n",
    "                                              'shift_y': [-1, 0, 1]},\n",
    "                              custom_kwargs={},\n",
    "                              timemed_kwargs={},\n",
    "                              dqmed_kwargs={'shift_x': [-1, 0, 1],\n",
    "                                            'shift_y': [-1, 0, 1]},\n",
    "                              medfilt_kwargs={'size': 4},\n",
    "                              subdir='bpcleaned')"
   ]
  },
  {
   "cell_type": "code",
   "execution_count": null,
   "id": "d54ca62a-ad2c-4868-a166-518ff92a536e",
   "metadata": {
    "scrolled": true,
    "tags": []
   },
   "outputs": [],
   "source": [
    "if not cleanalign:\n",
    "    ImageTools.replace_nans(cval=0.,\n",
    "                            types=['SCI', 'SCI_BG', 'REF', 'REF_BG'],\n",
    "                            subdir='nanreplaced')"
   ]
  },
  {
   "cell_type": "code",
   "execution_count": null,
   "id": "cb0c1e4c-1c7e-44d4-878c-e025a7db4bb6",
   "metadata": {
    "scrolled": true,
    "tags": []
   },
   "outputs": [],
   "source": [
    "if not cleanalign:\n",
    "    if blur:\n",
    "        ImageTools.blur_frames()"
   ]
  },
  {
   "cell_type": "code",
   "execution_count": null,
   "id": "0b6be0ef-7623-44f2-8a07-ebed306116b5",
   "metadata": {
    "scrolled": true,
    "tags": []
   },
   "outputs": [],
   "source": [
    "if not cleanalign:\n",
    "    if crop:\n",
    "        ImageTools.crop_frames(npix=10)\n",
    "    \n",
    "    if pad:\n",
    "        ImageTools.pad_frames(\n",
    "                              npix=[32, 33, 32, 33],\n",
    "                              # npix=[1, 144, 73, 72], # shortwave\n",
    "                              types=['SCI', 'SCI_BG', 'REF', 'REF_BG'],\n",
    "                              cval=0.\n",
    "                             )\n",
    "        "
   ]
  },
  {
   "cell_type": "code",
   "execution_count": null,
   "id": "1b3ef0a5-be9e-41c9-aa6f-7ec1bae0c6ae",
   "metadata": {
    "scrolled": true,
    "tags": []
   },
   "outputs": [],
   "source": [
    "cc_method = 'fourier'\n",
    "shift_method = 'spline'\n",
    "algo = 'leastsq'\n",
    "\n",
    "if not aligned:\n",
    "    ImageTools.recenter_frames(\n",
    "        # shift_method=shift_method,\n",
    "        spectral_type='G2V',\n",
    "        # shft_exp=1,\n",
    "    )"
   ]
  },
  {
   "cell_type": "code",
   "execution_count": null,
   "id": "931e7f8c-8eec-4aae-869a-53ed643b3e87",
   "metadata": {
    "scrolled": true,
    "tags": []
   },
   "outputs": [],
   "source": [
    "if not aligned:\n",
    "    ImageTools.align_frames(\n",
    "        method=cc_method,\n",
    "        # shift_method=shift_method,\n",
    "        align_algo=algo,\n",
    "        # shft_exp=1,\n",
    "        # mask_override=None,\n",
    "        kwargs={},\n",
    "        subdir='aligned'\n",
    "    )"
   ]
  },
  {
   "cell_type": "code",
   "execution_count": null,
   "id": "f3f02feb-f897-4bf1-93c6-dd5b00f16116",
   "metadata": {
    "scrolled": true,
    "tags": []
   },
   "outputs": [],
   "source": [
    "if not aligned and coadd:\n",
    "    ImageTools.coadd_frames()"
   ]
  },
  {
   "cell_type": "markdown",
   "id": "8dc98d01-8c49-4e74-8f97-bd37b341fd88",
   "metadata": {},
   "source": [
    "## pyklip"
   ]
  },
  {
   "cell_type": "code",
   "execution_count": null,
   "id": "71748dbf-3a03-4c07-aef1-a99e32296019",
   "metadata": {},
   "outputs": [],
   "source": [
    "import platform\n",
    "if platform.processor() == 'arm':\n",
    "    os.environ[\"OPENBLAS_NUM_THREADS\"] = \"1\"\n",
    "    os.environ[\"OMP_NUM_THREADS\"] = \"1\" \n",
    "# once other image reduction steps are done, run this so that pyklip.parallelized doesn't kill your apple chip"
   ]
  },
  {
   "cell_type": "code",
   "execution_count": null,
   "id": "0a9c8a53-6419-43df-b443-6aa8b04353d3",
   "metadata": {
    "scrolled": true,
    "tags": []
   },
   "outputs": [],
   "source": [
    "pyklippipeline.run_obs(database=Database,\n",
    "                       kwargs={'mode': ['ADI+RDI'],\n",
    "                               'annuli': [1],\n",
    "                               'subsections': [1],\n",
    "                               'numbasis': [1, 2, 3, 4, 5, 10, 20, 30, 40, 50, 60, 70, 80, 90, 100, 120, 140, 160],\n",
    "                               'algo': 'klip',\n",
    "                               'save_rolls': False,\n",
    "                              },\n",
    "                       subdir='klipsub',\n",
    "                      )"
   ]
  },
  {
   "cell_type": "markdown",
   "id": "8c9cf241-4e87-41c5-b5c7-2fdd7b8e6d5e",
   "metadata": {},
   "source": [
    "## contrast and companion forward modeling"
   ]
  },
  {
   "cell_type": "code",
   "execution_count": null,
   "id": "7360273e-5c9c-452d-85fe-849cda8e4e47",
   "metadata": {},
   "outputs": [],
   "source": [
    "Analysis = analysistools.AnalysisTools(Database)\n",
    "\n",
    "companions = [\n",
    "              [-0.806, -0.758, 1e-6], # your candidate planets (or galaxies) here\n",
    "             ]\n",
    "\n",
    "companion_masks = [[-0.806, -0.758, 2], [0.8, -1.15, 4]]\n",
    "\n",
    "starfile = './Your_star_here.vot'\n",
    "\n",
    "mstar_err = 0.0\n"
   ]
  },
  {
   "cell_type": "code",
   "execution_count": null,
   "id": "7195e8a3-a7cb-4358-a195-d97993466149",
   "metadata": {
    "scrolled": true,
    "tags": []
   },
   "outputs": [],
   "source": [
    "inj_seps = [0.1, 0.2, 0.3, 0.4, 0.5, 0.6, 0.7, 0.8, 0.9, 1.0, 1.1, 1.2, 1.3, 1.4, 1.5, 1.6, 1.7, 1.8, 1.9, 2.0, 2.5, 3.0]\n",
    "Analysis.raw_contrast(starfile,spectral_type='G2V',companions=companions, plot_xlim=(0,3), subdir='rawcon')\n",
    "Analysis.calibrate_contrast(\n",
    "                            companions=companion_masks,\n",
    "                            injection_seps=inj_seps,\n",
    "                            plot_xlim=(0,3),\n",
    "                            subdir='calcon'\n",
    "                           )"
   ]
  },
  {
   "cell_type": "code",
   "execution_count": null,
   "id": "4096572d-5af9-401e-bc28-cdb1db40242e",
   "metadata": {
    "scrolled": true,
    "tags": []
   },
   "outputs": [],
   "source": [
    "Analysis.extract_companions(companions, \n",
    "                            starfile, \n",
    "                            mstar_err,\n",
    "                            spectral_type='G2V', \n",
    "                            fitmethod='mcmc',\n",
    "                            fitkernel='matern32',\n",
    "                            subdir='companions'\n",
    "                           )"
   ]
  },
  {
   "cell_type": "code",
   "execution_count": null,
   "id": "36267dad-a2e9-47fa-a45a-c494cfeaeb9f",
   "metadata": {},
   "outputs": [],
   "source": []
  }
 ],
 "metadata": {
  "kernelspec": {
   "display_name": "spaceklip",
   "language": "python",
   "name": "spaceklip"
  },
  "language_info": {
   "codemirror_mode": {
    "name": "ipython",
    "version": 3
   },
   "file_extension": ".py",
   "mimetype": "text/x-python",
   "name": "python",
   "nbconvert_exporter": "python",
   "pygments_lexer": "ipython3",
   "version": "3.11.8"
  }
 },
 "nbformat": 4,
 "nbformat_minor": 5
}
